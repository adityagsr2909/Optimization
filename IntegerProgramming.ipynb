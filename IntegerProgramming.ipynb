{
  "nbformat": 4,
  "nbformat_minor": 0,
  "metadata": {
    "colab": {
      "provenance": [],
      "authorship_tag": "ABX9TyMJCsnOvXlkfxQ7xjZyp97K",
      "include_colab_link": true
    },
    "kernelspec": {
      "name": "python3",
      "display_name": "Python 3"
    },
    "language_info": {
      "name": "python"
    }
  },
  "cells": [
    {
      "cell_type": "markdown",
      "metadata": {
        "id": "view-in-github",
        "colab_type": "text"
      },
      "source": [
        "<a href=\"https://colab.research.google.com/github/adityagsr2909/Optimization/blob/main/IntegerProgramming.ipynb\" target=\"_parent\"><img src=\"https://colab.research.google.com/assets/colab-badge.svg\" alt=\"Open In Colab\"/></a>"
      ]
    },
    {
      "cell_type": "code",
      "execution_count": 22,
      "metadata": {
        "colab": {
          "base_uri": "https://localhost:8080/"
        },
        "id": "uPLWEHpYiiKs",
        "outputId": "b8b4aa1f-9232-4f02-8c13-3bc834a2ba4a"
      },
      "outputs": [
        {
          "output_type": "stream",
          "name": "stdout",
          "text": [
            "\u001b[2K     \u001b[90m━━━━━━━━━━━━━━━━━━━━━━━━━━━━━━━━━━━━━━━━\u001b[0m \u001b[32m57.0/57.0 kB\u001b[0m \u001b[31m3.9 MB/s\u001b[0m eta \u001b[36m0:00:00\u001b[0m\n",
            "\u001b[2K   \u001b[90m━━━━━━━━━━━━━━━━━━━━━━━━━━━━━━━━━━━━━━━━\u001b[0m \u001b[32m44.3/44.3 MB\u001b[0m \u001b[31m17.4 MB/s\u001b[0m eta \u001b[36m0:00:00\u001b[0m\n",
            "\u001b[?25h"
          ]
        }
      ],
      "source": [
        "!pip install pyomo -q\n",
        "!pip install cplex -q\n",
        "!apt-get install -y -qq glpk-utils -q"
      ]
    },
    {
      "cell_type": "code",
      "source": [],
      "metadata": {
        "id": "P5Te5mQhqm9b"
      },
      "execution_count": null,
      "outputs": []
    },
    {
      "cell_type": "code",
      "source": [
        "import warnings\n",
        "warnings.filterwarnings('ignore')\n",
        "\n",
        "import pyomo.environ as pyo\n",
        "from pyomo.opt import SolverFactory"
      ],
      "metadata": {
        "id": "qBpZwQsioZX2"
      },
      "execution_count": 10,
      "outputs": []
    },
    {
      "cell_type": "code",
      "source": [
        "#- Define model\n",
        "model = pyo.ConcreteModel()"
      ],
      "metadata": {
        "id": "ZR2XsQHFoZjl"
      },
      "execution_count": 11,
      "outputs": []
    },
    {
      "cell_type": "code",
      "source": [
        "#- Define Sets\n",
        "model.i = pyo.Set(initialize=['Shirts', 'Shorts', 'Pants'])\n",
        "#- Parameters\n",
        "model.P = pyo.Param(model.i,initialize={'Shirts' : 12, 'Shorts' : 8, 'Pants' : 15})\n",
        "P = model.P\n",
        "model.Co = pyo.Param(model.i,initialize={'Shirts' : 6, 'Shorts' : 4, 'Pants' : 8})\n",
        "Co = model.Co\n",
        "model.F = pyo.Param(model.i,initialize={'Shirts' : 200, 'Shorts' : 150, 'Pants' : 100})\n",
        "F = model.F\n",
        "model.L = pyo.Param(model.i,initialize={'Shirts' : 3, 'Shorts' : 2, 'Pants' : 6})\n",
        "L = model.L\n",
        "model.C = pyo.Param(model.i,initialize={'Shirts' : 4, 'Shorts' : 3, 'Pants' : 4})\n",
        "C = model.C\n",
        "#- if only shirts then 160/4 = 40 similarly for others\n",
        "model.M = pyo.Param(model.i,initialize={'Shirts' : 40, 'Shorts' : 53, 'Pants' : 40})\n",
        "M = model.M\n",
        "\n",
        "#- Decision Variables\n",
        "def x_bounds(model, i):\n",
        "    return (0, model.M[i])\n",
        "model.x = pyo.Var(model.i, domain=pyo.Integers, bounds=x_bounds)\n",
        "x = model.x\n",
        "\n",
        "model.y = pyo.Var(model.i, domain=pyo.Binary)\n",
        "y= model.y"
      ],
      "metadata": {
        "colab": {
          "base_uri": "https://localhost:8080/"
        },
        "id": "0NuQBGlNoZnK",
        "outputId": "b22625eb-a057-4d9d-f257-a5868150bd38"
      },
      "execution_count": 26,
      "outputs": [
        {
          "output_type": "stream",
          "name": "stderr",
          "text": [
            "WARNING:pyomo.core:Implicitly replacing the Component attribute i (type=<class 'pyomo.core.base.set.OrderedScalarSet'>) on block unknown with a new Component (type=<class 'pyomo.core.base.set.AbstractOrderedScalarSet'>).\n",
            "This is usually indicative of a modelling error.\n",
            "To avoid this warning, use block.del_component() and block.add_component().\n",
            "WARNING:pyomo.core:Implicitly replacing the Component attribute P (type=<class 'pyomo.core.base.param.IndexedParam'>) on block unknown with a new Component (type=<class 'pyomo.core.base.param.IndexedParam'>).\n",
            "This is usually indicative of a modelling error.\n",
            "To avoid this warning, use block.del_component() and block.add_component().\n",
            "WARNING:pyomo.core:Implicitly replacing the Component attribute Co (type=<class 'pyomo.core.base.param.IndexedParam'>) on block unknown with a new Component (type=<class 'pyomo.core.base.param.IndexedParam'>).\n",
            "This is usually indicative of a modelling error.\n",
            "To avoid this warning, use block.del_component() and block.add_component().\n",
            "WARNING:pyomo.core:Implicitly replacing the Component attribute F (type=<class 'pyomo.core.base.param.IndexedParam'>) on block unknown with a new Component (type=<class 'pyomo.core.base.param.IndexedParam'>).\n",
            "This is usually indicative of a modelling error.\n",
            "To avoid this warning, use block.del_component() and block.add_component().\n",
            "WARNING:pyomo.core:Implicitly replacing the Component attribute L (type=<class 'pyomo.core.base.param.IndexedParam'>) on block unknown with a new Component (type=<class 'pyomo.core.base.param.IndexedParam'>).\n",
            "This is usually indicative of a modelling error.\n",
            "To avoid this warning, use block.del_component() and block.add_component().\n",
            "WARNING:pyomo.core:Implicitly replacing the Component attribute C (type=<class 'pyomo.core.base.param.IndexedParam'>) on block unknown with a new Component (type=<class 'pyomo.core.base.param.IndexedParam'>).\n",
            "This is usually indicative of a modelling error.\n",
            "To avoid this warning, use block.del_component() and block.add_component().\n",
            "WARNING:pyomo.core:Implicitly replacing the Component attribute M (type=<class 'pyomo.core.base.param.IndexedParam'>) on block unknown with a new Component (type=<class 'pyomo.core.base.param.IndexedParam'>).\n",
            "This is usually indicative of a modelling error.\n",
            "To avoid this warning, use block.del_component() and block.add_component().\n",
            "WARNING:pyomo.core:Implicitly replacing the Component attribute x (type=<class 'pyomo.core.base.var.IndexedVar'>) on block unknown with a new Component (type=<class 'pyomo.core.base.var.IndexedVar'>).\n",
            "This is usually indicative of a modelling error.\n",
            "To avoid this warning, use block.del_component() and block.add_component().\n",
            "WARNING:pyomo.core:Implicitly replacing the Component attribute y (type=<class 'pyomo.core.base.var.IndexedVar'>) on block unknown with a new Component (type=<class 'pyomo.core.base.var.IndexedVar'>).\n",
            "This is usually indicative of a modelling error.\n",
            "To avoid this warning, use block.del_component() and block.add_component().\n"
          ]
        }
      ]
    },
    {
      "cell_type": "code",
      "source": [
        "#- Objective Functon\n",
        "def ObjectiveRule(model,i):\n",
        "    return (\n",
        "        sum(P[i]*x[i] for i in model.i) - sum(Co[i]*x[i] for i in model.i) - sum(F[i]*y[i] for i in model.i)\n",
        "    )\n",
        "model.obj = pyo.Objective(rule=ObjectiveRule, sense=pyo.maximize)"
      ],
      "metadata": {
        "colab": {
          "base_uri": "https://localhost:8080/"
        },
        "id": "eXB8p3UUodLk",
        "outputId": "5a9c298a-9fd2-4c73-8779-8efb542e9e1c"
      },
      "execution_count": 27,
      "outputs": [
        {
          "output_type": "stream",
          "name": "stderr",
          "text": [
            "WARNING:pyomo.core:Implicitly replacing the Component attribute obj (type=<class 'pyomo.core.base.objective.ScalarObjective'>) on block unknown with a new Component (type=<class 'pyomo.core.base.objective.ScalarObjective'>).\n",
            "This is usually indicative of a modelling error.\n",
            "To avoid this warning, use block.del_component() and block.add_component().\n"
          ]
        }
      ]
    },
    {
      "cell_type": "code",
      "source": [
        "#- Constraints\n",
        "def constraint1(model,i):\n",
        "    return (sum(L[i]*x[i] for i in model.i)) <= 150\n",
        "model.const1 = pyo.Constraint(model.i, rule=constraint1)\n",
        "def constraint2(model,i):\n",
        "    return (sum(C[i]*x[i] for i in model.i)) <= 160\n",
        "model.const2 = pyo.Constraint(model.i, rule=constraint2)\n",
        "def constraint3(model,i):\n",
        "    return x[i] <= M[i]*y[i]\n",
        "model.const3= pyo.Constraint(model.i, rule=constraint3)"
      ],
      "metadata": {
        "colab": {
          "base_uri": "https://localhost:8080/"
        },
        "id": "wctemckbodOf",
        "outputId": "8c3c4904-8c83-4b7c-9f32-b03aadbf222f"
      },
      "execution_count": 28,
      "outputs": [
        {
          "output_type": "stream",
          "name": "stderr",
          "text": [
            "WARNING:pyomo.core:Implicitly replacing the Component attribute const1 (type=<class 'pyomo.core.base.constraint.IndexedConstraint'>) on block unknown with a new Component (type=<class 'pyomo.core.base.constraint.IndexedConstraint'>).\n",
            "This is usually indicative of a modelling error.\n",
            "To avoid this warning, use block.del_component() and block.add_component().\n",
            "WARNING:pyomo.core:Implicitly replacing the Component attribute const2 (type=<class 'pyomo.core.base.constraint.IndexedConstraint'>) on block unknown with a new Component (type=<class 'pyomo.core.base.constraint.IndexedConstraint'>).\n",
            "This is usually indicative of a modelling error.\n",
            "To avoid this warning, use block.del_component() and block.add_component().\n",
            "WARNING:pyomo.core:Implicitly replacing the Component attribute const3 (type=<class 'pyomo.core.base.constraint.IndexedConstraint'>) on block unknown with a new Component (type=<class 'pyomo.core.base.constraint.IndexedConstraint'>).\n",
            "This is usually indicative of a modelling error.\n",
            "To avoid this warning, use block.del_component() and block.add_component().\n"
          ]
        }
      ]
    },
    {
      "cell_type": "code",
      "source": [
        "solver = SolverFactory('cplex_direct')\n",
        "results = solver.solve(model)"
      ],
      "metadata": {
        "id": "JVNBSH_iodRf"
      },
      "execution_count": 29,
      "outputs": []
    },
    {
      "cell_type": "code",
      "source": [
        "print(results)\n",
        "print(f\"Objective Function = {model.obj()}\")\n",
        "for i in model.i:\n",
        "    print(f\"Number {i} produced each week = {x[i]()}\")\n",
        "\n",
        "\n"
      ],
      "metadata": {
        "colab": {
          "base_uri": "https://localhost:8080/"
        },
        "id": "KWwEUj4hiuhU",
        "outputId": "face1317-d3ec-4334-a2ed-288515c32591"
      },
      "execution_count": 30,
      "outputs": [
        {
          "output_type": "stream",
          "name": "stdout",
          "text": [
            "\n",
            "Problem: \n",
            "- Name: \n",
            "  Lower bound: 75.00000000000031\n",
            "  Upper bound: 75.00000000000031\n",
            "  Number of objectives: 1\n",
            "  Number of constraints: 9\n",
            "  Number of variables: 6\n",
            "  Number of binary variables: 3\n",
            "  Number of integer variables: 3\n",
            "  Number of continuous variables: 0\n",
            "  Number of nonzeros: None\n",
            "  Sense: maximize\n",
            "Solver: \n",
            "- Name: CPLEX 22.1.2.0\n",
            "  Status: ok\n",
            "  Wallclock time: 0.006152629852294922\n",
            "  Termination condition: optimal\n",
            "Solution: \n",
            "- number of solutions: 0\n",
            "  number of solutions displayed: 0\n",
            "\n",
            "Objective Function = 75.00000000000031\n",
            "Number Shirts produced each week = 0.0\n",
            "Number Shorts produced each week = 1.2789769243681803e-13\n",
            "Number Pants produced each week = 24.999999999999947\n"
          ]
        }
      ]
    },
    {
      "cell_type": "code",
      "source": [],
      "metadata": {
        "id": "NGG2VOoBrVC1"
      },
      "execution_count": null,
      "outputs": []
    }
  ]
}